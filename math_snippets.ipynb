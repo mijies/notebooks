{
 "cells": [
  {
   "cell_type": "markdown",
   "metadata": {},
   "source": [
    "# Table of Contents\n",
    "## Functions\n",
    "\n",
    "- sigmod\n",
    "- logit\n",
    "- relue\n",
    "- softmax\n",
    "- exp\n",
    "- tanh\n",
    "\n",
    "## Derivation \n",
    "\n",
    "- sigmoid derivative\n",
    "- sofmax partial derivative\n",
    "- softmax with loss partial derivative\n",
    "- tanh derivative\n",
    "- sample variance"
   ]
  },
  {
   "cell_type": "code",
   "execution_count": 5,
   "metadata": {},
   "outputs": [],
   "source": [
    "import warnings\n",
    "warnings.filterwarnings('ignore');\n",
    "import numpy as np\n",
    "from matplotlib import pyplot as plt\n",
    "%matplotlib inline"
   ]
  },
  {
   "cell_type": "code",
   "execution_count": 6,
   "metadata": {},
   "outputs": [],
   "source": [
    "def sigmoid(x):\n",
    "    return 1 / (1 + np.exp(-x))\n",
    "\n",
    "def logit(p):\n",
    "    return np.log(p /(1 - p))\n",
    "\n",
    "def relu(x):\n",
    "    return np.maximum(0, x)\n",
    "\n",
    "def softmax(x):\n",
    "    if x.ndim == 1:\n",
    "        x -= np.max(x) # scale down\n",
    "        x = np.exp(x)\n",
    "        return x / np.sum(x)\n",
    "\n",
    "    if x.ndim == 2: # batch\n",
    "        x -= x.max(axis=1, keepdims=True)\n",
    "        x = np.exp(x)\n",
    "        return x / x.sum(axis=1, keepdims=True)\n",
    "\n",
    "exp = (lambda n: (1+(1/(10**n)))**(10**n))(8)\n",
    "\n",
    "def tanh(x):\n",
    "    return (np.exp(x) - np.exp(-x)) / (np.exp(x) + np.exp(-x))"
   ]
  },
  {
   "cell_type": "code",
   "execution_count": 10,
   "metadata": {},
   "outputs": [
    {
     "data": {
      "text/plain": [
       "[<matplotlib.lines.Line2D at 0x7f07c0902490>]"
      ]
     },
     "execution_count": 10,
     "metadata": {},
     "output_type": "execute_result"
    },
    {
     "data": {
      "image/png": "[encoded data removed]",
      "text/plain": [
       "<Figure size 1080x288 with 3 Axes>"
      ]
     },
     "metadata": {
      "needs_background": "light"
     },
     "output_type": "display_data"
    }
   ],
   "source": [
    "x, p = np.linspace(-8,8,1000), np.linspace(0,1,1000)\n",
    "_, (ax1, ax2, ax3) = plt.subplots(ncols=3, figsize=(15,4))\n",
    "ax1.plot(x, sigmoid(x))\n",
    "ax2.plot(p[1:-1], logit(p[1:-1])) # slicing to avoid zerp devisions\n",
    "ax3.plot(x, tanh(x))"
   ]
  },
  {
   "cell_type": "markdown",
   "metadata": {},
   "source": [
    "## Sigmoid Derivative"
   ]
  },
  {
   "cell_type": "markdown",
   "metadata": {},
   "source": [
    "$$\n",
    "\\large S = \\frac{1}{1+\\exp(-x)}\n",
    "$$"
   ]
  },
  {
   "cell_type": "markdown",
   "metadata": {},
   "source": [
    "$$\n",
    "\\large \\frac{dS}{dx}\\;=\\; -\\frac{1}{(1+\\exp(-x))^2} \\exp(-x) (-1) \\;=\\; \\frac{\\exp(-x)}{(1+\\exp(-x))^2}\n",
    "$$"
   ]
  },
  {
   "cell_type": "markdown",
   "metadata": {},
   "source": [
    "$$\n",
    "\\large \\; = \\; \\frac{1}{1+\\exp(-x)} \\Bigl(\\frac{1+\\exp(-x)}{1+\\exp(-x)} - \\frac{1}{1+\\exp(-x)} \\Bigr)\n",
    "\\;=\\; S(1-S)\n",
    "$$"
   ]
  },
  {
   "cell_type": "markdown",
   "metadata": {},
   "source": [
    "## Softmax Partial Derivative"
   ]
  },
  {
   "cell_type": "markdown",
   "metadata": {},
   "source": [
    "$$\n",
    "\\large \\; S \\;=\\;\\frac{\\exp(a_k)}{\\sum_{i=1}^n \\exp(a_i)} \\quad \\quad ; \\; \\sum \\;=\\; \\sum_{i=1}^n \\exp(a_i),\\quad a_k \\ne a_j\n",
    "$$"
   ]
  },
  {
   "cell_type": "markdown",
   "metadata": {},
   "source": [
    "$$\n",
    "\\large \\frac{\\partial S}{\\partial a_k}  \\; = \\; \\frac{\\exp(a_k)\\sum - \\exp(a_k)\\sum'}{\\sum^2} \\; = \\; \\frac{\\exp(a_k)\\sum - \\exp(a_k)\\exp(a_k)}{\\sum^2}\n",
    "$$"
   ]
  },
  {
   "cell_type": "markdown",
   "metadata": {},
   "source": [
    "$$\n",
    "\\large \\frac{ \\Big(\\sum - \\exp(a_k)\\Big) \\exp(a_k)}{\\sum^2}\\;=\\;\\frac{\\exp(a_k)}{\\sum} \\frac{\\sum - \\exp(a_k)}{\\sum} \\; = \\; S(1-S)\n",
    "$$"
   ]
  },
  {
   "cell_type": "markdown",
   "metadata": {},
   "source": [
    "$$\n",
    "\\large \\frac{\\partial S}{\\partial a_j}  \\; = \\; \\frac{0\\sum - \\exp(a_k)\\sum'}{\\sum^2} \\; = \\; \\frac{0 - \\exp(a_k)\\exp(a_j)}{\\sum^2}\n",
    " \\; = \\; S(0-S)\n",
    "$$"
   ]
  },
  {
   "cell_type": "markdown",
   "metadata": {},
   "source": [
    "## Softmax with Loss Partial Derivative"
   ]
  },
  {
   "cell_type": "markdown",
   "metadata": {},
   "source": [
    "$$\n",
    "\\large\n",
    "Categorical \\, Cross \\, Entropy \\, Error \\quad L = -\\frac{1}{n}\\sum_{i=1}^n t_i\\log(y_i)\n",
    "\\quad \\quad ; \\; y_i \\;=\\ Softmax(a_i);\n",
    "$$"
   ]
  },
  {
   "cell_type": "markdown",
   "metadata": {},
   "source": [
    "$$\n",
    "\\large \\frac{\\partial L(S(a_k))}{\\partial a_k} \\;=\\; \\Big(-\\frac{t_k}{S}\\Big) \\frac{\\partial S}{\\partial a_k}\n",
    "\\;=\\;  \\Big(-\\frac{t_k}{S}\\Big) S(1-S) \\; = \\; t_k(S-1)\n",
    "$$"
   ]
  },
  {
   "cell_type": "markdown",
   "metadata": {},
   "source": [
    "$$\n",
    "\\large \\frac{\\partial L(S(a_k))}{\\partial a_j} \\;=\\; \\Big(-\\frac{t_k}{S}\\Big) \\frac{\\partial S}{\\partial a_k}\n",
    "\\;=\\;  \\Big(-\\frac{t_k}{S}\\Big) S(0-S) \\; = \\; t_k(S-0)\n",
    "$$"
   ]
  },
  {
   "cell_type": "markdown",
   "metadata": {},
   "source": [
    "$$\n",
    "\\large \\frac{\\partial L(S(a_k))}{\\partial I_i} \\;=\\; t_k(S-I_i) \\qquad; \n",
    "\\; I = Identity\\; Matrix \\quad \\{1\\;|\\;i = k,\\quad0\\;|\\;i \\neq k\\}\n",
    "$$"
   ]
  },
  {
   "cell_type": "markdown",
   "metadata": {},
   "source": [
    "## Hyperbolic Tangent Derivative"
   ]
  },
  {
   "cell_type": "markdown",
   "metadata": {},
   "source": [
    "$$\n",
    "\\large S =\\; \\frac{f}{g} = \\frac{\\exp(x)-\\exp(-x)}{\\exp(x)+\\exp(-x)}\n",
    "$$"
   ]
  },
  {
   "cell_type": "markdown",
   "metadata": {},
   "source": [
    "$$\n",
    "\\large \\frac{dS}{dx}\\;=\\; \\frac{f'g-fg'}{g^2} \\;=\\; \\frac{(\\exp(x)-\\exp(-x))'g - f(\\exp(x)+\\exp(-x))'}{g^2}\n",
    "$$"
   ]
  },
  {
   "cell_type": "markdown",
   "metadata": {},
   "source": [
    "$$\n",
    "\\large \\frac{g^2-f^2}{g^2} \\;= \\; 1 - S^2 \\quad \\quad ; \\; \\frac{1}{cosh^2x}\n",
    "$$"
   ]
  },
  {
   "cell_type": "markdown",
   "metadata": {},
   "source": [
    "## Sample Variance"
   ]
  },
  {
   "cell_type": "markdown",
   "metadata": {},
   "source": [
    "$$\n",
    "\\large V[\\bar{X}] =\\; E[(\\bar{X} - \\mu)^2] \\quad \\quad ; \\; \\mu \\;is\\;expectation\\;of\\;sample\\;and\\;population\n",
    "$$"
   ]
  },
  {
   "cell_type": "markdown",
   "metadata": {},
   "source": [
    "$$\n",
    "\\large E[(\\frac{1}{n}\\sum_{i = 1}^n X_{i} -\\mu)^2] \\;=\\; E[\\{\\frac{1}{n}(\\sum_{i = 1}^n X_{i} -n\\mu)\\}^2]\n",
    "\\;=\\; \\frac{1}{n^2}E[\\{\\sum_{i = 1}^n (X_{i} -\\mu)\\}^2]\n",
    "$$"
   ]
  },
  {
   "cell_type": "markdown",
   "metadata": {},
   "source": [
    "$\n",
    "\\begin{align}\n",
    "\\large \\quad Inside \\; E[]\n",
    "\\end{align}\n",
    "$"
   ]
  },
  {
   "cell_type": "markdown",
   "metadata": {},
   "source": [
    "$$\n",
    "\\large \\sum_{i = 1}^n (X_{i} -\\mu)\\sum_{j = 1}^n (X_{j} -\\mu)\n",
    "\\;=\\; \\sum_{i = 1}^n \\sum_{j = 1}^n (X_{i} -\\mu)(X_{j} -\\mu)\n",
    "$$"
   ]
  },
  {
   "cell_type": "markdown",
   "metadata": {},
   "source": [
    "$\n",
    "\\begin{align}\n",
    "\\large \\qquad where\\; X_{i} = X_{j}\\qquad => \\qquad (X_{i} - \\mu)^2 \\qquad ; \\; n\\;time\\;occurrence\n",
    "\\end{align}\n",
    "$"
   ]
  },
  {
   "cell_type": "markdown",
   "metadata": {},
   "source": [
    "$\n",
    "\\begin{align}\n",
    "\\large \\qquad where\\; X_{i} \\neq X_{j}\\qquad => \\qquad (X_{i} - \\mu)(X_{j} - \\mu)\n",
    "\\;=\\; E[X_{i}]E[X_{j}] -\\mu E[X_{i}] -\\mu E[X_{j}] +\\mu^2\n",
    "\\end{align}\n",
    "$"
   ]
  },
  {
   "cell_type": "markdown",
   "metadata": {},
   "source": [
    "$$\n",
    "\\large \\;=\\; \\mu^2 -\\mu^2 -\\mu^2 +\\mu^2 \\;=\\; 0\n",
    "$$"
   ]
  },
  {
   "cell_type": "markdown",
   "metadata": {},
   "source": [
    "$\n",
    "\\begin{align}\n",
    "\\large \\quad Outside \\; E[]\n",
    "\\end{align}\n",
    "$"
   ]
  },
  {
   "cell_type": "markdown",
   "metadata": {},
   "source": [
    "$$\n",
    "\\large \\frac{1}{n^2}E[\\sum_{i = 1}^n \\sum_{j = 1}^n (X_{i} -\\mu)(X_{j} -\\mu)]\n",
    "\\;=\\; \\frac{1}{n^2}E[n(X_{i} - \\mu)^2]\n",
    "$$"
   ]
  },
  {
   "cell_type": "markdown",
   "metadata": {},
   "source": [
    "$$\n",
    "\\large \\frac{1}{n}E[(X_{i} - \\mu)^2] \\;=\\; \\frac{1}{n}V[X]\n",
    "$$"
   ]
  },
  {
   "cell_type": "code",
   "execution_count": null,
   "metadata": {},
   "outputs": [],
   "source": []
  }
 ],
 "metadata": {
  "kernelspec": {
   "display_name": "Python 3",
   "language": "python",
   "name": "python3"
  },
  "language_info": {
   "codemirror_mode": {
    "name": "ipython",
    "version": 3
   },
   "file_extension": ".py",
   "mimetype": "text/x-python",
   "name": "python",
   "nbconvert_exporter": "python",
   "pygments_lexer": "ipython3",
   "version": "3.7.4"
  }
 },
 "nbformat": 4,
 "nbformat_minor": 2
}
