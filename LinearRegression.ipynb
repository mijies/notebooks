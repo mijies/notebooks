{
 "cells": [
  {
   "cell_type": "markdown",
   "metadata": {
    "collapsed": true
   },
   "source": [
    "## Least squares Method"
   ]
  },
  {
   "cell_type": "markdown",
   "metadata": {},
   "source": [
    "$$\n",
    "\\large\n",
    "f(x) = Ax + B \\quad \n",
    "\\left\\{\n",
    "\\begin{array}{ll}\n",
    "Slope & A = \\frac{Cov(x, y)}{\\sigma^2 x} \\\\\n",
    "Intercept & B = \\mu y - A\\mu x\n",
    "\\end{array}\n",
    "\\right.\n",
    "$$"
   ]
  },
  {
   "cell_type": "code",
   "execution_count": 307,
   "metadata": {
    "collapsed": true
   },
   "outputs": [],
   "source": [
    "import warnings\n",
    "warnings.filterwarnings('ignore')\n",
    "import numpy as np\n",
    "from matplotlib import pyplot as plt\n",
    "%matplotlib inline"
   ]
  },
  {
   "cell_type": "code",
   "execution_count": 308,
   "metadata": {},
   "outputs": [
    {
     "data": {
      "text/plain": [
       "50.000000000000007"
      ]
     },
     "execution_count": 308,
     "metadata": {},
     "output_type": "execute_result"
    }
   ],
   "source": [
    "x = np.linspace(0, 100, 50)\n",
    "x_mean = sum(x)/len(x)\n",
    "x_mean"
   ]
  },
  {
   "cell_type": "code",
   "execution_count": 309,
   "metadata": {},
   "outputs": [
    {
     "data": {
      "text/plain": [
       "79.21247157423592"
      ]
     },
     "execution_count": 309,
     "metadata": {},
     "output_type": "execute_result"
    }
   ],
   "source": [
    "t = x + np.random.randn(len(x))*7 + 30\n",
    "t_mean = sum(t)/len(t)\n",
    "t_mean"
   ]
  },
  {
   "cell_type": "code",
   "execution_count": 310,
   "metadata": {},
   "outputs": [
    {
     "data": {
      "text/plain": [
       "<matplotlib.collections.PathCollection at 0x7f85057c9630>"
      ]
     },
     "execution_count": 310,
     "metadata": {},
     "output_type": "execute_result"
    },
    {
     "data": {
      "image/png": "[encoded data removed]",
      "text/plain": [
       "<matplotlib.figure.Figure at 0x7f85057a4a20>"
      ]
     },
     "metadata": {},
     "output_type": "display_data"
    }
   ],
   "source": [
    "plt.scatter(x, t)"
   ]
  },
  {
   "cell_type": "code",
   "execution_count": 311,
   "metadata": {},
   "outputs": [
    {
     "name": "stdout",
     "output_type": "stream",
     "text": [
      "43367.3469388 43924.8127847\n"
     ]
    }
   ],
   "source": [
    "xx = []\n",
    "tt = []\n",
    "for i, j in zip(x, t):\n",
    "    xx.append((i-x_mean)**2)\n",
    "    tt.append(np.abs((j-t_mean)*(i-x_mean)))\n",
    "xxv = sum(xx)\n",
    "ttv = sum(tt)\n",
    "print(xxv, ttv)"
   ]
  },
  {
   "cell_type": "code",
   "execution_count": 313,
   "metadata": {},
   "outputs": [
    {
     "name": "stdout",
     "output_type": "stream",
     "text": [
      "1.01285450656\n"
     ]
    },
    {
     "data": {
      "text/plain": [
       "[<matplotlib.lines.Line2D at 0x7f850570f6d8>]"
      ]
     },
     "execution_count": 313,
     "metadata": {},
     "output_type": "execute_result"
    },
    {
     "data": {
      "image/png": "[encoded data removed]",
      "text/plain": [
       "<matplotlib.figure.Figure at 0x7f85058b8f98>"
      ]
     },
     "metadata": {},
     "output_type": "display_data"
    }
   ],
   "source": [
    "a = ttv/xxv\n",
    "print(a)\n",
    "plt.scatter(x, t)\n",
    "plt.plot(x, a*x)"
   ]
  },
  {
   "cell_type": "code",
   "execution_count": 314,
   "metadata": {},
   "outputs": [
    {
     "name": "stdout",
     "output_type": "stream",
     "text": [
      "28.569746246\n"
     ]
    },
    {
     "data": {
      "text/plain": [
       "[<matplotlib.lines.Line2D at 0x7f85057bff98>]"
      ]
     },
     "execution_count": 314,
     "metadata": {},
     "output_type": "execute_result"
    },
    {
     "data": {
      "image/png": "[encoded data removed]",
      "text/plain": [
       "<matplotlib.figure.Figure at 0x7f85057bfd30>"
      ]
     },
     "metadata": {},
     "output_type": "display_data"
    }
   ],
   "source": [
    "b = t_mean - a*x_mean\n",
    "print(b)\n",
    "plt.scatter(x, t)\n",
    "plt.plot(x, a*x + b)"
   ]
  },
  {
   "cell_type": "markdown",
   "metadata": {},
   "source": [
    "## Gradient Descent"
   ]
  },
  {
   "cell_type": "markdown",
   "metadata": {},
   "source": [
    "$$\n",
    "\\large Loss\\;(MSE) \\; = \\; \\frac{1}{2n}\\sum_{i=1}^{n}(f(x)_i-t_i)^2 \\qquad ※f(x) = Ax + B \\\\\n",
    "$$"
   ]
  },
  {
   "cell_type": "markdown",
   "metadata": {},
   "source": [
    "$$\n",
    "\\large \\frac{dLoss}{dA} \\; = \\; -\\frac{1}{n}\\sum_{i=1}^n(t_i - Ax - B)x\n",
    "$$"
   ]
  },
  {
   "cell_type": "markdown",
   "metadata": {},
   "source": [
    "$$\n",
    "\\large \\frac{dLoss}{dB} \\; = \\; -\\frac{1}{n}\\sum_{i=1}^n (t_i - Ax - B)\n",
    "$$"
   ]
  },
  {
   "cell_type": "markdown",
   "metadata": {},
   "source": [
    "$$\n",
    "\\large ※(A, B)\\; \\longrightarrow \\; (w_0, w_1)=W \\quad \\frac{dLoss}{dW_n} \\; = \\; -\\frac{1}{n}\\sum_{i=1}^n (t_i - w^Tx_i)x_{in} \\quad \\small (※x_{in} = 1 \\; for \\; w_1)\n",
    "$$"
   ]
  },
  {
   "cell_type": "markdown",
   "metadata": {},
   "source": [
    "$$\n",
    "\\large W_n \\; = \\; W_n - \\alpha \\times \\frac{dLoss}{dWn}\n",
    "$$"
   ]
  },
  {
   "cell_type": "code",
   "execution_count": 315,
   "metadata": {},
   "outputs": [
    {
     "name": "stdout",
     "output_type": "stream",
     "text": [
      "(2,)   [ 0.6610621  0.       ]\n",
      "(2, 50)   [ 0.          2.04081633  4.08163265  6.12244898  8.16326531]   [ 1.  1.  1.  1.  1.]\n"
     ]
    }
   ],
   "source": [
    "learning_rate = 0.0001\n",
    "num_steps = 50000\n",
    "\n",
    "W = np.array([np.random.rand(), 0])\n",
    "X = np.array([x, np.ones(len(x))])\n",
    "print(W.shape, ' ', W)\n",
    "print(X.shape, ' ', X[0,0:5], ' ', X[1,0:5])"
   ]
  },
  {
   "cell_type": "code",
   "execution_count": 318,
   "metadata": {},
   "outputs": [
    {
     "name": "stdout",
     "output_type": "stream",
     "text": [
      "[  1.01862288  28.1259627 ]\n",
      "1.01285450656 28.569746246\n"
     ]
    },
    {
     "data": {
      "text/plain": [
       "[<matplotlib.lines.Line2D at 0x7f85055bf320>]"
      ]
     },
     "execution_count": 318,
     "metadata": {},
     "output_type": "execute_result"
    },
    {
     "data": {
      "image/png": "[encoded data removed]",
      "text/plain": [
       "<matplotlib.figure.Figure at 0x7f85056308d0>"
      ]
     },
     "metadata": {},
     "output_type": "display_data"
    }
   ],
   "source": [
    "for _ in range(num_steps):\n",
    "#     Loss = sum((y - t)**2)/len(x)\n",
    "#     W[0] += learning_rate * sum((t - y)*X[0])/len(x)\n",
    "#     W[1] += learning_rate * sum((t - y)*X[1])/len(x)\n",
    "    y = np.dot(W.transpose(), X)\n",
    "    W += learning_rate * np.dot((t - y), X.transpose()) / len(x)\n",
    "print(W)\n",
    "print(a, b)\n",
    "plt.scatter(x, t)\n",
    "plt.plot(x, a*x+b) # Least Squares Method\n",
    "plt.plot(x, W[0]*x+W[1])"
   ]
  },
  {
   "cell_type": "code",
   "execution_count": null,
   "metadata": {
    "collapsed": true
   },
   "outputs": [],
   "source": []
  }
 ],
 "metadata": {
  "kernelspec": {
   "display_name": "Python 3",
   "language": "python",
   "name": "python3"
  },
  "language_info": {
   "codemirror_mode": {
    "name": "ipython",
    "version": 3
   },
   "file_extension": ".py",
   "mimetype": "text/x-python",
   "name": "python",
   "nbconvert_exporter": "python",
   "pygments_lexer": "ipython3",
   "version": "3.7.4"
  }
 },
 "nbformat": 4,
 "nbformat_minor": 2
}
