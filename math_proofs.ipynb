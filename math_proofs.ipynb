{
 "cells": [
  {
   "cell_type": "code",
   "execution_count": 10,
   "metadata": {
    "collapsed": true
   },
   "outputs": [],
   "source": [
    "import warnings\n",
    "warnings.filterwarnings('ignore');\n",
    "import numpy as np\n",
    "from matplotlib import pyplot as plt\n",
    "%matplotlib inline"
   ]
  },
  {
   "cell_type": "markdown",
   "metadata": {},
   "source": [
    "## Logstic(Sigmoid) function to Logit function"
   ]
  },
  {
   "cell_type": "markdown",
   "metadata": {
    "collapsed": true
   },
   "source": [
    "$$ \n",
    "\\large p = \\frac{1}{1+\\exp(-x)} \\quad \\Rightarrow \\quad \\exp(-x) = \\frac{1}{p}-1\n",
    "$$"
   ]
  },
  {
   "cell_type": "markdown",
   "metadata": {
    "collapsed": true
   },
   "source": [
    "$$ \n",
    "\\large\n",
    "\\Rightarrow \\quad x = -\\log(\\frac{1}{p}-1) \\quad = \\quad -\\log(\\frac{1-p}{p}) \\quad = \\quad \\log(\\frac{p}{1-p}) \\quad = \\quad \\log(p) - \\log(1-p)\n",
    "$$"
   ]
  },
  {
   "cell_type": "code",
   "execution_count": 3,
   "metadata": {
    "collapsed": true
   },
   "outputs": [],
   "source": [
    "def sigmoid(x):\n",
    "    return 1 / (1 + np.exp(-x))\n",
    "\n",
    "def logit(p):\n",
    "    return np.log(p /(1 - p))"
   ]
  },
  {
   "cell_type": "code",
   "execution_count": 3,
   "metadata": {},
   "outputs": [
    {
     "data": {
      "text/plain": [
       "[<matplotlib.lines.Line2D at 0x7f85041cc748>]"
      ]
     },
     "execution_count": 3,
     "metadata": {},
     "output_type": "execute_result"
    },
    {
     "data": {
      "image/png": "[encoded data removed]",
      "text/plain": [
       "<matplotlib.figure.Figure at 0x7f85100ff978>"
      ]
     },
     "metadata": {},
     "output_type": "display_data"
    }
   ],
   "source": [
    "x, p = np.linspace(-8,8,1000), np.linspace(0,1,1000)\n",
    "_, (axL, axR) = plt.subplots(ncols=2, figsize=(10,4))\n",
    "axL.plot(x, sigmoid(x))\n",
    "axR.plot(p[1:-1], logit(p[1:-1])) # slicing to avoid zerp devisions"
   ]
  },
  {
   "cell_type": "markdown",
   "metadata": {},
   "source": [
    "## Differentiation Formulas"
   ]
  },
  {
   "cell_type": "markdown",
   "metadata": {},
   "source": [
    "### Inverse Function"
   ]
  },
  {
   "cell_type": "markdown",
   "metadata": {},
   "source": [
    "$$\n",
    "\\Large y \\large \\; = \\; f(x) \\qquad \\qquad \\quad \\\\\n",
    "\\Large x \\large \\; = \\; g(y) \\; = \\; g(f(x)) \\; = \\; g \\cdot f\n",
    "$$"
   ]
  },
  {
   "cell_type": "markdown",
   "metadata": {},
   "source": [
    "$$\n",
    "\\large 1(\\small=x'\\large) \\quad = \\; \\frac{d}{dx} g \\cdot f \\; = \\; \\frac{d}{dx} g \\cdot \\frac{dy}{dx}\n",
    " \\; = \\; \\frac{dx}{dy} \\frac{dy}{dx}\n",
    "$$"
   ]
  },
  {
   "cell_type": "markdown",
   "metadata": {},
   "source": [
    "$$\n",
    "\\large \\frac{dy}{dx} \\; = \\; \\frac{1}{\\Large \\frac{dx}{dy}\\large}\n",
    "$$"
   ]
  },
  {
   "cell_type": "markdown",
   "metadata": {},
   "source": [
    "$\\;$"
   ]
  },
  {
   "cell_type": "markdown",
   "metadata": {},
   "source": [
    "## Differentiations with Napier's constant"
   ]
  },
  {
   "cell_type": "markdown",
   "metadata": {},
   "source": [
    "$$\n",
    "\\Large e \\large \\; = \\; \\lim_{n \\to \\infty}(1+\\frac{1}{n})^n \\quad or \\quad \\lim_{n \\to 0}(1+n)^\\frac{1}{n}\n",
    "$$"
   ]
  },
  {
   "cell_type": "code",
   "execution_count": 9,
   "metadata": {},
   "outputs": [
    {
     "name": "stdout",
     "output_type": "stream",
     "text": [
      "2.0 2.44140625 2.546499697040712 2.5937424601000023\n",
      "2.7048138294215285 2.7169239322355936 2.7181459268249255\n"
     ]
    }
   ],
   "source": [
    "# e = ((1+(1/n))**n for n in range(1, 10<<100))\n",
    "def napier(n):\n",
    "    while True:\n",
    "        yield (1+(1/n))**n\n",
    "        n += 3\n",
    "e = napier(1)\n",
    "print(next(e), next(e), next(e), next(e))\n",
    "print(napier(100).__next__(), napier(1000).__next__(), napier(10000).__next__())"
   ]
  },
  {
   "cell_type": "markdown",
   "metadata": {},
   "source": [
    "### Logarithm Differentiation $\\Bigl(\\log x\\Bigr)' \\; = \\; \\large \\frac{1}{x}$"
   ]
  },
  {
   "cell_type": "markdown",
   "metadata": {
    "collapsed": true
   },
   "source": [
    "$$\n",
    "\\large\n",
    "\\lim_{h \\to 0} \\frac{\\log(x+h) - \\log(x)}{h} \\quad \\longrightarrow \\quad \\lim_{h \\to 0} \\frac{1}{h} \\log(\\frac{x+h}{x})\n",
    "\\quad \\longrightarrow \\quad \\lim_{h \\to 0} \\frac{1}{h} \\log(1 + \\frac{h}{x})\n",
    "$$"
   ]
  },
  {
   "cell_type": "markdown",
   "metadata": {},
   "source": [
    "$$\n",
    "\\large\n",
    "\\; \\longrightarrow \\quad \\lim_{h \\to 0} \\frac{1}{xk} \\log(1 + k) \\; \\small \\verb|※| \\; \\frac{h}{x}=k \\quad\n",
    "\\large\n",
    "\\longrightarrow \\quad \\lim_{h \\to 0} \\frac{1}{x} \\log(1 + k)^\\frac{1}{k}\n",
    "\\longrightarrow \\quad \\frac{1}{x} \\log e\n",
    "$$"
   ]
  },
  {
   "cell_type": "markdown",
   "metadata": {},
   "source": [
    "$\\;$"
   ]
  },
  {
   "cell_type": "markdown",
   "metadata": {},
   "source": [
    "### Logarithm with Non-Base e Differentiation $\\Bigl(\\log_a x\\Bigr)' \\; = \\; \\large \\frac{1}{x \\log a}$"
   ]
  },
  {
   "cell_type": "markdown",
   "metadata": {},
   "source": [
    "$$\n",
    "\\large \\log_a x' \\quad = \\quad \\frac{d}{dx}\\frac{\\log_e x}{\\log_e a} \\;=\\; \\frac{1}{x\\log_e a}\n",
    "$$"
   ]
  },
  {
   "cell_type": "markdown",
   "metadata": {},
   "source": [
    "$\\;$"
   ]
  },
  {
   "cell_type": "markdown",
   "metadata": {},
   "source": [
    "### Exponential function Differentiation $ \\;\\exp(x)' \\; = \\; \\exp(x) $  by Inverse Function"
   ]
  },
  {
   "cell_type": "markdown",
   "metadata": {
    "collapsed": true
   },
   "source": [
    "\n"
   ]
  },
  {
   "cell_type": "markdown",
   "metadata": {},
   "source": [
    "### Exponential function Differentiation $ \\;\\exp(x)' \\; = \\; \\exp(x) $"
   ]
  },
  {
   "cell_type": "markdown",
   "metadata": {},
   "source": [
    "$$\n",
    "\\large \\lim_{h \\to 0}\\frac{\\exp(x+h)-\\exp(x)}{h} \\quad \\longrightarrow \\quad \\lim_{h \\to 0}\\frac{\\exp(x)(\\exp(h)-1)}{h}\n",
    "\\quad\n",
    "\\left\\{※\n",
    "    \\begin{array}{111}\n",
    "        \\exp(h)-1 = k\\\\\n",
    "        h= \\log(k+1)\\\\\n",
    "        \\lim_{h\\to0} \\rightarrow \\lim_{k\\to0}\n",
    "    \\end{array}\n",
    "\\right.\n",
    "$$"
   ]
  },
  {
   "cell_type": "markdown",
   "metadata": {},
   "source": [
    "$$\n",
    "\\large \\quad\\lim_{h\\to0}\\exp(x)\\frac{k}{\\log(k+1)}\\frac{k^{-1}}{k^{-1}}\n",
    "\\quad \\longrightarrow \\quad \\lim_{k\\to0}\\exp(x)\\frac{1}{\\log(k+1)^{\\frac{1}{k}}}\n",
    "\\quad \\longrightarrow \\quad \\exp(x)\\frac{1}{\\log e}\n",
    "$$"
   ]
  },
  {
   "cell_type": "markdown",
   "metadata": {},
   "source": [
    "$\\;$"
   ]
  },
  {
   "cell_type": "markdown",
   "metadata": {},
   "source": [
    "## Softmax with Loss Partial Derivative"
   ]
  },
  {
   "cell_type": "markdown",
   "metadata": {
    "collapsed": true
   },
   "source": [
    "$$\n",
    "\\large\n",
    "Softmax \\quad y_k = \\frac{\\exp(a_k)}{\\sum_{i=1}^n \\exp(a_i)} \\quad \\quad ※\\frac{\\exp(a_k)}{S}\n",
    "$$"
   ]
  },
  {
   "cell_type": "markdown",
   "metadata": {},
   "source": [
    "$$\n",
    "\\large\n",
    "Cross \\, Entropy \\, Error \\quad L = -\\sum_k t_k\\log(y_k)\n",
    "$$"
   ]
  },
  {
   "cell_type": "markdown",
   "metadata": {},
   "source": [
    "#### Loss Partial Derivative "
   ]
  },
  {
   "cell_type": "markdown",
   "metadata": {},
   "source": [
    "$$\n",
    "\\large\n",
    "-\\frac{t_k}{y_k} \\quad  = \\quad -t_k \\times \\frac{1}{y_k}\\Bigl(\\small= \\frac{\\partial\\log y_k}{\\partial y_k} \\large \\Bigr) \\; \\longleftarrow \\; -1 \\times t_k \\; \\longleftarrow \\; -1 + 0 \\Bigl(\\small= (\\sum_k)' \\large \\Bigr)  \\; \\longleftarrow \\; 1 \\times -1 \\; \\longleftarrow \\; 1 \\Bigl(\\small= \\frac{\\partial L}{\\partial L} \\large \\Bigr)\n",
    "$$"
   ]
  },
  {
   "cell_type": "markdown",
   "metadata": {},
   "source": [
    "#### Softmax Partial Derivative Branched $\\frac{1}{S}$"
   ]
  },
  {
   "cell_type": "markdown",
   "metadata": {},
   "source": [
    "$$\n",
    "\\large\n",
    "\\frac{1}{S} \\Bigl(\\small\\verb|※one_hot_label| \\large \\Bigr) \\quad \\longleftarrow \\quad -t_k S \\times -\\frac{1}{S^2} \\quad \\longleftarrow \\quad -\\frac{t_k S}{\\exp(a_k)} \\Bigl(\\small=-\\frac{t_k}{y_k} \\large \\Bigr) \\times \\; \\exp(a_k)\n",
    "$$"
   ]
  },
  {
   "cell_type": "markdown",
   "metadata": {
    "collapsed": true
   },
   "source": [
    "#### Softmax Partial Derivative Branched $\\exp(a_k)$"
   ]
  },
  {
   "cell_type": "markdown",
   "metadata": {},
   "source": [
    "$$\n",
    "\\large\n",
    "-\\frac{t_k}{\\exp(a_k)} \\quad \\longleftarrow \\quad -\\frac{t_k S}{\\exp(a_k)} \\Bigl(\\small=-\\frac{t_k}{y_k} \\large \\Bigr) \\times \\; \\frac{1}{S}\n",
    "$$"
   ]
  },
  {
   "cell_type": "markdown",
   "metadata": {},
   "source": [
    "#### Softmax Partial Derivative Merged"
   ]
  },
  {
   "cell_type": "markdown",
   "metadata": {},
   "source": [
    "$$\n",
    "\\large\n",
    "y_k - t_k \\; \\longleftarrow \\; (\\frac{1}{S} - \\frac{t_k}{\\exp(a_k)}) \\times \\exp(a_k) \\; \\longleftarrow \\; \\frac{1}{S} + -\\frac{t_k}{\\exp(a_k)}\n",
    "$$"
   ]
  },
  {
   "cell_type": "code",
   "execution_count": null,
   "metadata": {
    "collapsed": true
   },
   "outputs": [],
   "source": []
  }
 ],
 "metadata": {
  "kernelspec": {
   "display_name": "Python 3",
   "language": "python",
   "name": "python3"
  },
  "language_info": {
   "codemirror_mode": {
    "name": "ipython",
    "version": 3
   },
   "file_extension": ".py",
   "mimetype": "text/x-python",
   "name": "python",
   "nbconvert_exporter": "python",
   "pygments_lexer": "ipython3",
   "version": "3.6.3"
  }
 },
 "nbformat": 4,
 "nbformat_minor": 2
}
