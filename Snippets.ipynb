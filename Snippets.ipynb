{
 "cells": [
  {
   "cell_type": "markdown",
   "metadata": {
    "collapsed": true
   },
   "source": [
    "## Least squares Method"
   ]
  },
  {
   "cell_type": "markdown",
   "metadata": {},
   "source": [
    "$$\n",
    "\\large\n",
    "f(x) = Ax + B \\quad \n",
    "\\left\\{\n",
    "\\begin{array}{ll}\n",
    "Slope & A = \\frac{Cov(x, y)}{\\sigma^2 x} \\\\\n",
    "Intercept & B = \\mu y - A\\mu x\n",
    "\\end{array}\n",
    "\\right.\n",
    "$$"
   ]
  },
  {
   "cell_type": "code",
   "execution_count": 257,
   "metadata": {
    "collapsed": true
   },
   "outputs": [],
   "source": [
    "import numpy as np\n",
    "from matplotlib import pyplot as plt\n",
    "%matplotlib inline"
   ]
  },
  {
   "cell_type": "code",
   "execution_count": 258,
   "metadata": {},
   "outputs": [
    {
     "data": {
      "text/plain": [
       "50.000000000000007"
      ]
     },
     "execution_count": 258,
     "metadata": {},
     "output_type": "execute_result"
    }
   ],
   "source": [
    "x = np.linspace(0, 100, 50)\n",
    "x_mean = sum(x)/len(x)\n",
    "x_mean"
   ]
  },
  {
   "cell_type": "code",
   "execution_count": 259,
   "metadata": {},
   "outputs": [
    {
     "data": {
      "text/plain": [
       "80.307505283572809"
      ]
     },
     "execution_count": 259,
     "metadata": {},
     "output_type": "execute_result"
    }
   ],
   "source": [
    "t = x + np.random.randn(len(x))*7 + 30\n",
    "t_mean = sum(t)/len(t)\n",
    "t_mean"
   ]
  },
  {
   "cell_type": "code",
   "execution_count": 260,
   "metadata": {},
   "outputs": [
    {
     "data": {
      "text/plain": [
       "<matplotlib.collections.PathCollection at 0x7f8505c9a9e8>"
      ]
     },
     "execution_count": 260,
     "metadata": {},
     "output_type": "execute_result"
    },
    {
     "data": {
      "image/png": "[encoded data removed]",
      "text/plain": [
       "<matplotlib.figure.Figure at 0x7f8505cc0630>"
      ]
     },
     "metadata": {},
     "output_type": "display_data"
    }
   ],
   "source": [
    "plt.scatter(x, t)"
   ]
  },
  {
   "cell_type": "code",
   "execution_count": 261,
   "metadata": {},
   "outputs": [
    {
     "data": {
      "text/plain": [
       "(43367.346938775503, 43153.433298986383)"
      ]
     },
     "execution_count": 261,
     "metadata": {},
     "output_type": "execute_result"
    }
   ],
   "source": [
    "xx = []\n",
    "tt = []\n",
    "for i, j in zip(x, t):\n",
    "   xx.append( (i - x_mean)**2 )\n",
    "   tt.append( np.abs((j - t_mean)*(i - x_mean)) )\n",
    "\n",
    "xx_mean = sum(xx)\n",
    "tt_mean = sum(tt)\n",
    "xx_mean, tt_mean"
   ]
  },
  {
   "cell_type": "code",
   "execution_count": 262,
   "metadata": {},
   "outputs": [
    {
     "data": {
      "text/plain": [
       "[<matplotlib.lines.Line2D at 0x7f8505c3ebe0>]"
      ]
     },
     "execution_count": 262,
     "metadata": {},
     "output_type": "execute_result"
    },
    {
     "data": {
      "image/png": "[encoded data removed]",
      "text/plain": [
       "<matplotlib.figure.Figure at 0x7f8505c3e978>"
      ]
     },
     "metadata": {},
     "output_type": "display_data"
    }
   ],
   "source": [
    "a = tt_mean / xx_mean\n",
    "plt.scatter(x, t)\n",
    "plt.plot(x, a*x)"
   ]
  },
  {
   "cell_type": "code",
   "execution_count": 263,
   "metadata": {},
   "outputs": [
    {
     "name": "stdout",
     "output_type": "stream",
     "text": [
      "0.99506740313 30.5541351271\n"
     ]
    },
    {
     "data": {
      "text/plain": [
       "[<matplotlib.lines.Line2D at 0x7f8505c5f438>]"
      ]
     },
     "execution_count": 263,
     "metadata": {},
     "output_type": "execute_result"
    },
    {
     "data": {
      "image/png": "[encoded data removed]",
      "text/plain": [
       "<matplotlib.figure.Figure at 0x7f8505c5fbe0>"
      ]
     },
     "metadata": {},
     "output_type": "display_data"
    }
   ],
   "source": [
    "b = t_mean - a*x_mean\n",
    "print(a, b)\n",
    "plt.scatter(x, t)\n",
    "plt.plot(x, a*x + b)"
   ]
  },
  {
   "cell_type": "markdown",
   "metadata": {},
   "source": [
    "## Gradient Descent"
   ]
  },
  {
   "cell_type": "markdown",
   "metadata": {},
   "source": [
    "$$\n",
    "\\large Loss\\;(MSE) \\; = \\; \\frac{1}{2n}\\sum_{i=1}^{n}(f(x)_i-t_i)^2 \\qquad ※f(x) = Ax + B \\\\\n",
    "$$"
   ]
  },
  {
   "cell_type": "markdown",
   "metadata": {},
   "source": [
    "$$\n",
    "\\large \\frac{dLoss}{dA} \\; = \\; -\\frac{1}{n}\\sum_{i=1}^n(t_i - Ax - B)x\n",
    "$$"
   ]
  },
  {
   "cell_type": "markdown",
   "metadata": {},
   "source": [
    "$$\n",
    "\\large \\frac{dLoss}{dB} \\; = \\; -\\frac{1}{n}\\sum_{i=1}^n (t_i - Ax - B)\n",
    "$$"
   ]
  },
  {
   "cell_type": "markdown",
   "metadata": {},
   "source": [
    "$$\n",
    "\\large ※(A, B)\\; \\longrightarrow \\; (w_0, w_1)=W \\quad \\frac{dLoss}{dW_n} \\; = \\; -\\frac{1}{n}\\sum_{i=1}^n (t_i - w^Tx_i)x_{in} \\quad \\small (※x_{in} = 1 \\; for \\; w_1)\n",
    "$$"
   ]
  },
  {
   "cell_type": "markdown",
   "metadata": {},
   "source": [
    "$$\n",
    "\\large W_n \\; = \\; W_n - \\alpha \\times \\frac{dLoss}{dWn}\n",
    "$$"
   ]
  },
  {
   "cell_type": "code",
   "execution_count": 279,
   "metadata": {},
   "outputs": [
    {
     "name": "stdout",
     "output_type": "stream",
     "text": [
      "(2,)   [ 0.51103016  0.        ]\n",
      "(2, 50)   [ 0.          2.04081633  4.08163265  6.12244898  8.16326531]   [ 1.  1.  1.  1.  1.]\n"
     ]
    }
   ],
   "source": [
    "learning_rate = 0.00001\n",
    "num_steps = 50000\n",
    "\n",
    "w = np.random.rand()\n",
    "bias = np.zeros(1)\n",
    "W = np.array([w,bias]).transpose()\n",
    "print(W.shape, ' ', W)\n",
    "X = np.array([x, np.ones(len(x))])\n",
    "print(X.shape, ' ', X[0,0:5], ' ', X[1,0:5])"
   ]
  },
  {
   "cell_type": "code",
   "execution_count": 280,
   "metadata": {},
   "outputs": [
    {
     "name": "stdout",
     "output_type": "stream",
     "text": [
      "[  0.99488704  30.55055892]\n",
      "0.99506740313 30.5541351271\n"
     ]
    }
   ],
   "source": [
    "for step in range(num_steps):\n",
    "    y = np.dot(W, X)\n",
    "#     Loss = sum((y - t)**2)/len(x)\n",
    "#     W[0] += learning_rate * sum((t - y)*X[0])/len(x)\n",
    "#     W[1] += learning_rate * sum((t - y)*X[1])/len(x)\n",
    "    W += np.dot((t - y), X.transpose()) * learning_rate\n",
    "print(W) \n",
    "print(a, b) # Least Squares Method"
   ]
  },
  {
   "cell_type": "code",
   "execution_count": 278,
   "metadata": {},
   "outputs": [
    {
     "data": {
      "text/plain": [
       "[<matplotlib.lines.Line2D at 0x7f85059d39e8>]"
      ]
     },
     "execution_count": 278,
     "metadata": {},
     "output_type": "execute_result"
    },
    {
     "data": {
      "image/png": "[encoded data removed]",
      "text/plain": [
       "<matplotlib.figure.Figure at 0x7f8505a48f98>"
      ]
     },
     "metadata": {},
     "output_type": "display_data"
    }
   ],
   "source": [
    "b = t_mean - a*x_mean\n",
    "plt.scatter(x, t)\n",
    "plt.plot(x, y)\n",
    "plt.plot(x, a*x + b)"
   ]
  },
  {
   "cell_type": "code",
   "execution_count": 267,
   "metadata": {},
   "outputs": [
    {
     "name": "stdout",
     "output_type": "stream",
     "text": [
      "1000\n",
      "500\n"
     ]
    },
    {
     "data": {
      "text/plain": [
       "600"
      ]
     },
     "execution_count": 267,
     "metadata": {},
     "output_type": "execute_result"
    }
   ],
   "source": [
    "class hoge:\n",
    "    def __init__(self, x):\n",
    "        self._a = x\n",
    "\n",
    "class fuga(hoge):\n",
    "    def __init__(self, x):\n",
    "        super().__init__(x)\n",
    "\n",
    "    @property\n",
    "    def a(self):\n",
    "        return self._a * 100\n",
    "    \n",
    "    @a.setter\n",
    "    def a(self, x):\n",
    "        self._a //= x\n",
    "    \n",
    "    def __add__(self, x):\n",
    "        self._a += x\n",
    "\n",
    "aa = fuga(10)\n",
    "print(aa.a)\n",
    "aa.a = 2\n",
    "print(aa.a)\n",
    "aa + 1\n",
    "aa.a"
   ]
  }
 ],
 "metadata": {
  "kernelspec": {
   "display_name": "Python 3",
   "language": "python",
   "name": "python3"
  },
  "language_info": {
   "codemirror_mode": {
    "name": "ipython",
    "version": 3
   },
   "file_extension": ".py",
   "mimetype": "text/x-python",
   "name": "python",
   "nbconvert_exporter": "python",
   "pygments_lexer": "ipython3",
   "version": "3.6.3"
  }
 },
 "nbformat": 4,
 "nbformat_minor": 2
}
