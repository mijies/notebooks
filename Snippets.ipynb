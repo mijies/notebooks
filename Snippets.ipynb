{
 "cells": [
  {
   "cell_type": "markdown",
   "metadata": {
    "collapsed": true
   },
   "source": [
    "## Least squares Method"
   ]
  },
  {
   "cell_type": "markdown",
   "metadata": {},
   "source": [
    "$$\n",
    "f(x) = Ax + B \\quad \n",
    "\\left\\{\n",
    "\\begin{array}{ll}\n",
    "Slope & A = \\frac{Cov(x, y)}{\\sigma^2 x} \\\\\n",
    "Intercept & B = \\mu y - A\\mu x\n",
    "\\end{array}\n",
    "\\right.\n",
    "$$"
   ]
  },
  {
   "cell_type": "code",
   "execution_count": 60,
   "metadata": {
    "collapsed": true
   },
   "outputs": [],
   "source": [
    "import numpy as np\n",
    "from matplotlib import pyplot as plt\n",
    "%matplotlib inline"
   ]
  },
  {
   "cell_type": "code",
   "execution_count": 61,
   "metadata": {},
   "outputs": [
    {
     "data": {
      "text/plain": [
       "50.000000000000007"
      ]
     },
     "execution_count": 61,
     "metadata": {},
     "output_type": "execute_result"
    }
   ],
   "source": [
    "x = np.linspace(0, 100, 50)\n",
    "x_mean = sum(x)/len(x)\n",
    "x_mean"
   ]
  },
  {
   "cell_type": "code",
   "execution_count": 62,
   "metadata": {},
   "outputs": [
    {
     "data": {
      "text/plain": [
       "81.699984514949506"
      ]
     },
     "execution_count": 62,
     "metadata": {},
     "output_type": "execute_result"
    }
   ],
   "source": [
    "y = x + np.random.randn(len(x))*7 + 30\n",
    "y_mean = sum(y)/len(y)\n",
    "y_mean"
   ]
  },
  {
   "cell_type": "code",
   "execution_count": 63,
   "metadata": {},
   "outputs": [
    {
     "data": {
      "text/plain": [
       "<matplotlib.collections.PathCollection at 0x7fdc5c2bf278>"
      ]
     },
     "execution_count": 63,
     "metadata": {},
     "output_type": "execute_result"
    },
    {
     "data": {
      "image/png": "[encoded data removed]",
      "text/plain": [
       "<matplotlib.figure.Figure at 0x7fdc5c2bcf60>"
      ]
     },
     "metadata": {},
     "output_type": "display_data"
    }
   ],
   "source": [
    "plt.scatter(x, y)"
   ]
  },
  {
   "cell_type": "code",
   "execution_count": 64,
   "metadata": {},
   "outputs": [
    {
     "data": {
      "text/plain": [
       "(43367.346938775503, 44238.67630958822)"
      ]
     },
     "execution_count": 64,
     "metadata": {},
     "output_type": "execute_result"
    }
   ],
   "source": [
    "xx = []\n",
    "yy = []\n",
    "for i, j in zip(x, y):\n",
    "   xx.append( (i - x_mean)**2 )\n",
    "   yy.append( np.abs((j - y_mean)*(i - x_mean)) )\n",
    "\n",
    "xx_mean = sum(xx)\n",
    "yy_mean = sum(yy)\n",
    "xx_mean, yy_mean"
   ]
  },
  {
   "cell_type": "code",
   "execution_count": 65,
   "metadata": {},
   "outputs": [
    {
     "data": {
      "text/plain": [
       "[<matplotlib.lines.Line2D at 0x7fdc5c27e9b0>]"
      ]
     },
     "execution_count": 65,
     "metadata": {},
     "output_type": "execute_result"
    },
    {
     "data": {
      "image/png": "[encoded data removed]",
      "text/plain": [
       "<matplotlib.figure.Figure at 0x7fdc5c27e5c0>"
      ]
     },
     "metadata": {},
     "output_type": "display_data"
    }
   ],
   "source": [
    "a = yy_mean / xx_mean\n",
    "plt.scatter(x, y)\n",
    "plt.plot(x, a*x)"
   ]
  },
  {
   "cell_type": "code",
   "execution_count": 66,
   "metadata": {},
   "outputs": [
    {
     "data": {
      "text/plain": [
       "[<matplotlib.lines.Line2D at 0x7fdc5c3c47b8>]"
      ]
     },
     "execution_count": 66,
     "metadata": {},
     "output_type": "execute_result"
    },
    {
     "data": {
      "image/png": "[encoded data removed]",
      "text/plain": [
       "<matplotlib.figure.Figure at 0x7fdc5c3c4f98>"
      ]
     },
     "metadata": {},
     "output_type": "display_data"
    }
   ],
   "source": [
    "b = y_mean - a*x_mean\n",
    "plt.scatter(x, y)\n",
    "plt.plot(x, a*x + b)"
   ]
  },
  {
   "cell_type": "code",
   "execution_count": 67,
   "metadata": {},
   "outputs": [
    {
     "data": {
      "text/plain": [
       "array([ 0.09159293,  0.37066555,  0.06735907,  0.57240177])"
      ]
     },
     "execution_count": 67,
     "metadata": {},
     "output_type": "execute_result"
    }
   ],
   "source": [
    "np.random.rand(4)"
   ]
  },
  {
   "cell_type": "markdown",
   "metadata": {},
   "source": [
    "## Gradient Descent"
   ]
  },
  {
   "cell_type": "code",
   "execution_count": 68,
   "metadata": {},
   "outputs": [
    {
     "name": "stdout",
     "output_type": "stream",
     "text": [
      "(2,)\n",
      "[ 0.20608183  0.        ]\n",
      "(50, 2)\n",
      "[[ 0.          1.        ]\n",
      " [ 2.04081633  1.        ]\n",
      " [ 4.08163265  1.        ]\n",
      " [ 6.12244898  1.        ]\n",
      " [ 8.16326531  1.        ]]\n"
     ]
    }
   ],
   "source": [
    "learning_rate = 0.01\n",
    "num_steps = 500\n",
    "t = y\n",
    "\n",
    "w = np.random.rand()\n",
    "b = np.zeros(1)\n",
    "W = np.array([w,b])\n",
    "print(W.shape)\n",
    "print(W)\n",
    "X = np.array([x, np.ones(len(x))]).transpose(1,0)\n",
    "print(X.shape)\n",
    "print(X[0:5])"
   ]
  },
  {
   "cell_type": "code",
   "execution_count": 74,
   "metadata": {},
   "outputs": [
    {
     "data": {
      "text/plain": [
       "286110.93830885814"
      ]
     },
     "execution_count": 74,
     "metadata": {},
     "output_type": "execute_result"
    }
   ],
   "source": [
    "y = np.dot(W, X.transpose())\n",
    "Loss = sum((y - t)**2)\n",
    "Loss"
   ]
  },
  {
   "cell_type": "code",
   "execution_count": null,
   "metadata": {
    "collapsed": true
   },
   "outputs": [],
   "source": [
    "(w*x + b -t)**2"
   ]
  },
  {
   "cell_type": "code",
   "execution_count": 70,
   "metadata": {},
   "outputs": [
    {
     "name": "stdout",
     "output_type": "stream",
     "text": [
      "1000\n",
      "500\n"
     ]
    },
    {
     "data": {
      "text/plain": [
       "600"
      ]
     },
     "execution_count": 70,
     "metadata": {},
     "output_type": "execute_result"
    }
   ],
   "source": [
    "class hoge:\n",
    "    def __init__(self, x):\n",
    "        self._a = x\n",
    "\n",
    "class fuga(hoge):\n",
    "    def __init__(self, x):\n",
    "        super().__init__(x)\n",
    "\n",
    "    @property\n",
    "    def a(self):\n",
    "        return self._a * 100\n",
    "    \n",
    "    @a.setter\n",
    "    def a(self, x):\n",
    "        self._a //= x\n",
    "    \n",
    "    def __add__(self, x):\n",
    "        self._a += x\n",
    "\n",
    "aa = fuga(10)\n",
    "print(aa.a)\n",
    "aa.a = 2\n",
    "print(aa.a)\n",
    "aa + 1\n",
    "aa.a"
   ]
  }
 ],
 "metadata": {
  "kernelspec": {
   "display_name": "Python 3",
   "language": "python",
   "name": "python3"
  },
  "language_info": {
   "codemirror_mode": {
    "name": "ipython",
    "version": 3
   },
   "file_extension": ".py",
   "mimetype": "text/x-python",
   "name": "python",
   "nbconvert_exporter": "python",
   "pygments_lexer": "ipython3",
   "version": "3.6.3"
  }
 },
 "nbformat": 4,
 "nbformat_minor": 2
}
