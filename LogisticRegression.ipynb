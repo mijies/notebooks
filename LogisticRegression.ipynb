{
 "cells": [
  {
   "cell_type": "markdown",
   "metadata": {},
   "source": [
    "## Hypothesis Function  (sigmoid)"
   ]
  },
  {
   "cell_type": "markdown",
   "metadata": {},
   "source": [
    "$$\n",
    "\\large h \\; = \\; h(\\theta^T X)\\; = \\;\\frac{1}{1 + \\exp^{-\\theta^T X}}\\;\\quad; \\; \\theta\\;=\\;(a, b) \\; for \\; linear\\; model\n",
    "$$"
   ]
  },
  {
   "cell_type": "markdown",
   "metadata": {},
   "source": [
    "## Loss Function"
   ]
  },
  {
   "cell_type": "markdown",
   "metadata": {},
   "source": [
    "$$\n",
    "\\large Loss \\;(Cross Entropy) \\; = \\; -\\frac{1}{n}\\sum_{i=1}^n t_i \\log (h) + (1-t_i) \\log (1-h)\n",
    "$$"
   ]
  },
  {
   "cell_type": "markdown",
   "metadata": {},
   "source": [
    "## Gradient Descent"
   ]
  },
  {
   "cell_type": "markdown",
   "metadata": {},
   "source": [
    "$$\n",
    "\\large \\theta_i \\;=\\; \\theta_i - \\frac{\\alpha}{n} \\sum_{i=1}^{n}\\frac{\\partial Loss}{\\partial \\theta} \\quad ; \\; \\alpha=Learning\\; Rate\n",
    "$$"
   ]
  },
  {
   "cell_type": "markdown",
   "metadata": {},
   "source": [
    "## Loss Function Partial Derivative"
   ]
  },
  {
   "cell_type": "markdown",
   "metadata": {},
   "source": [
    "$$\n",
    "\\large \\frac{\\partial Loss}{\\partial \\theta} \\;=\\; -\\Big\\{t_i\\frac{1}{h} + (1-t_i)\\frac{1}{1-h}(-1) \\Big\\}\\frac{\\partial h}{\\partial \\theta}\n",
    "$$"
   ]
  },
  {
   "cell_type": "markdown",
   "metadata": {},
   "source": [
    "$$\n",
    "\\large \\frac{ \\partial h}{\\partial \\theta} \\;=\\; h(1-h)X\n",
    "$$"
   ]
  },
  {
   "cell_type": "markdown",
   "metadata": {},
   "source": [
    "$$\n",
    "\\large=\\; -\\Big\\{t_i\\frac{1}{h} + (1-t_i)\\frac{1}{1-h}(-1) \\Big\\} h(1-h)X\n",
    "$$"
   ]
  },
  {
   "cell_type": "markdown",
   "metadata": {},
   "source": [
    "$$\n",
    "\\large \\;=\\; -\\Big\\{t_i(1-h) - (1-t_i)h \\Big\\} X\\;=\\; \\Bigl(h - t_i \\Bigr) X\n",
    "$$"
   ]
  },
  {
   "cell_type": "code",
   "execution_count": 96,
   "metadata": {},
   "outputs": [],
   "source": [
    "import warnings\n",
    "warnings.filterwarnings('ignore')\n",
    "import numpy as np\n",
    "import matplotlib.pyplot as plt\n",
    "%matplotlib inline"
   ]
  },
  {
   "cell_type": "code",
   "execution_count": 97,
   "metadata": {},
   "outputs": [],
   "source": [
    "pos_x = np.linspace(0, 15, 5)\n",
    "neg_x = np.linspace(10, 30, 5)\n",
    "\n",
    "pos_t = np.ones(len(pos_x))\n",
    "neg_t = np.zeros(len(neg_x))"
   ]
  },
  {
   "cell_type": "code",
   "execution_count": 98,
   "metadata": {},
   "outputs": [
    {
     "data": {
      "image/png": "[encoded data removed]",
      "text/plain": [
       "<Figure size 432x288 with 1 Axes>"
      ]
     },
     "metadata": {
      "needs_background": "light"
     },
     "output_type": "display_data"
    }
   ],
   "source": [
    "fig = plt.figure()\n",
    "ax = fig.add_subplot(1,1,1)\n",
    "\n",
    "ax = plt.scatter(pos_x, pos_t, c='blue')\n",
    "ax = plt.scatter(neg_x, neg_t, c='red')\n",
    "fig.show()"
   ]
  },
  {
   "cell_type": "code",
   "execution_count": 99,
   "metadata": {},
   "outputs": [
    {
     "name": "stdout",
     "output_type": "stream",
     "text": [
      "[0.97244684 0.        ]\n"
     ]
    }
   ],
   "source": [
    "learning_rate = 0.001\n",
    "num_steps = 50000\n",
    "\n",
    "def sigmoid(x):\n",
    "    return 1 / (1 + np.exp(-x))\n",
    "\n",
    "x = np.append(pos_x, neg_x)\n",
    "t = np.append(pos_t, neg_t)\n",
    "\n",
    "W = np.array([np.random.rand(), 0])\n",
    "X = np.array([x, np.ones(len(x))])\n",
    "print(W)"
   ]
  },
  {
   "cell_type": "code",
   "execution_count": 100,
   "metadata": {},
   "outputs": [
    {
     "data": {
      "text/plain": [
       "array([-0.23742148,  2.98445144])"
      ]
     },
     "execution_count": 100,
     "metadata": {},
     "output_type": "execute_result"
    }
   ],
   "source": [
    "for _ in range(num_steps):\n",
    "    y = sigmoid(np.dot(W.transpose(), X))\n",
    "    W += learning_rate * np.dot((t - y), X.transpose()) / len(x)\n",
    "W"
   ]
  },
  {
   "cell_type": "code",
   "execution_count": 101,
   "metadata": {},
   "outputs": [
    {
     "data": {
      "image/png": "[encoded data removed]",
      "text/plain": [
       "<Figure size 432x288 with 1 Axes>"
      ]
     },
     "metadata": {
      "needs_background": "light"
     },
     "output_type": "display_data"
    }
   ],
   "source": [
    "fig = plt.figure()\n",
    "ax = fig.add_subplot(1,1,1)\n",
    "\n",
    "sample_x = np.linspace(0, 30, 2000)\n",
    "sample_X = np.array([sample_x, np.ones(2000)])\n",
    "\n",
    "ax = plt.scatter(pos_x, pos_t, c='blue')\n",
    "ax = plt.scatter(neg_x, neg_t, c='red')\n",
    "ax = plt.plot(sample_x, sigmoid(sample_x - 15))\n",
    "ax = plt.plot(sample_x, sigmoid(np.dot(W.transpose(), sample_X)))\n",
    "fig.show()"
   ]
  },
  {
   "cell_type": "code",
   "execution_count": null,
   "metadata": {},
   "outputs": [],
   "source": []
  }
 ],
 "metadata": {
  "kernelspec": {
   "display_name": "Python 3",
   "language": "python",
   "name": "python3"
  },
  "language_info": {
   "codemirror_mode": {
    "name": "ipython",
    "version": 3
   },
   "file_extension": ".py",
   "mimetype": "text/x-python",
   "name": "python",
   "nbconvert_exporter": "python",
   "pygments_lexer": "ipython3",
   "version": "3.7.4"
  }
 },
 "nbformat": 4,
 "nbformat_minor": 2
}
