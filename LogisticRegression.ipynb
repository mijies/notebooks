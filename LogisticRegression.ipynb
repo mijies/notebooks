{
 "cells": [
  {
   "cell_type": "code",
   "execution_count": 2,
   "metadata": {
    "collapsed": true
   },
   "outputs": [],
   "source": [
    "import warnings\n",
    "warnings.filterwarnings('ignore')\n",
    "import numpy as np\n",
    "import matplotlib.pyplot as plt\n",
    "%matplotlib inline"
   ]
  },
  {
   "cell_type": "markdown",
   "metadata": {},
   "source": [
    "## Hypothesis Function  (sigmoid)"
   ]
  },
  {
   "cell_type": "markdown",
   "metadata": {},
   "source": [
    "$$\n",
    "\\large h(x)\\;=\\; g(f(x)) \\; = \\;\\frac{1}{1 + \\exp^{-f(x)}}\\;,\\quad f(x)\\;=\\;Ax + B \\quad\\small(※\\;\\theta^T X )\n",
    "$$"
   ]
  },
  {
   "cell_type": "markdown",
   "metadata": {},
   "source": [
    "$$\n",
    "\\large h(x) \\;=\\; P(y=0\\;|\\;x,\\theta) \\;=\\; 1 - P(y=1\\;|\\;x,\\theta) \\quad \\small ※ \\theta \\;=\\; [A, B]\n",
    "$$"
   ]
  },
  {
   "cell_type": "markdown",
   "metadata": {},
   "source": [
    "## Loss Function"
   ]
  },
  {
   "cell_type": "markdown",
   "metadata": {},
   "source": [
    "$$\n",
    "\\large Loss \\;(Cross Entropy) \\; = \\; -\\frac{1}{n}\\sum_{i=1}^n t_i \\log (h(x_i)) + (1-t_i) \\log (1-h(x_i))\n",
    "$$"
   ]
  },
  {
   "cell_type": "markdown",
   "metadata": {},
   "source": [
    "## Loss Function Partial Derivative"
   ]
  },
  {
   "cell_type": "markdown",
   "metadata": {},
   "source": [
    "$$\n",
    "\\large \\frac{dLoss}{d\\theta} \\;=\\; \\frac{\\partial Loss}{\\partial Z} \\frac{\\partial Z}{\\partial y}\n",
    "\\frac{\\partial y}{\\partial h(x_i)}\\frac{\\partial h(x_i)}{\\partial \\theta}\n",
    "\\qquad Z = \\log(y), \\quad y \\;=\\; 0+h(x_i) \\; | \\; 1-h(x_i)\n",
    "$$"
   ]
  },
  {
   "cell_type": "markdown",
   "metadata": {},
   "source": [
    "$$\n",
    "\\large \\;=\\; -\\Bigl(t_i\\frac{1}{h(x_i)} + (1-t_i)\\frac{1}{1-h(x_i)} \\Bigr)\\times \\frac{\\partial Z}{\\partial y}\n",
    "\\times \\frac{\\partial y}{\\partial h(x_i)} \\times \\frac{\\partial h(x_i)}{\\partial \\theta}\n",
    "$$"
   ]
  },
  {
   "cell_type": "markdown",
   "metadata": {},
   "source": [
    "$$\n",
    "\\large \\;=\\; -\\Bigl(t_i\\frac{1}{h(x_i)}\\times 1 + (1-t_i)\\frac{1}{1-h(x_i)}\\times -1 \\Bigr)\n",
    "\\times \\frac{\\partial y}{\\partial h(x_i)} \\times \\frac{\\partial h(x_i)}{\\partial \\theta}\n",
    "$$"
   ]
  },
  {
   "cell_type": "markdown",
   "metadata": {},
   "source": [
    "$$\n",
    "\\large \\;=\\; -\\Bigl(t_i\\frac{1}{h(x_i)} - (1-t_i)\\frac{1}{1-h(x_i)} \\Bigr)\\times h(x_i)(1-h(x_i)) \\times x_i\n",
    "$$"
   ]
  },
  {
   "cell_type": "markdown",
   "metadata": {},
   "source": [
    "$$\n",
    "\\large \\;=\\; -\\Bigl(t_i(1-h(x_i)) - (1-t_i)h(x_i) \\Bigr) x_i\n",
    "\\;=\\; -\\Bigl(t_i - h(x_i) \\Bigr) x_i \\;=\\; \\Bigl(h(x_i) - t_i \\Bigr) x_i\n",
    "$$"
   ]
  },
  {
   "cell_type": "markdown",
   "metadata": {},
   "source": [
    "## Gradient Descent"
   ]
  },
  {
   "cell_type": "markdown",
   "metadata": {
    "collapsed": true
   },
   "source": [
    "$$\n",
    "\\large \\theta_i \\;=\\; \\theta_i - \\frac{\\alpha}{n} \\sum_{i=1}^{n}\\Bigl(h(x_i) - t_i \\Bigr) x_i \\quad \\small ※ \\alpha=Learning\\; Rate\n",
    "$$"
   ]
  },
  {
   "cell_type": "code",
   "execution_count": null,
   "metadata": {
    "collapsed": true
   },
   "outputs": [],
   "source": []
  }
 ],
 "metadata": {
  "kernelspec": {
   "display_name": "Python 3",
   "language": "python",
   "name": "python3"
  },
  "language_info": {
   "codemirror_mode": {
    "name": "ipython",
    "version": 3
   },
   "file_extension": ".py",
   "mimetype": "text/x-python",
   "name": "python",
   "nbconvert_exporter": "python",
   "pygments_lexer": "ipython3",
   "version": "3.6.3"
  }
 },
 "nbformat": 4,
 "nbformat_minor": 2
}
